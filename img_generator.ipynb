{
 "cells": [
  {
   "cell_type": "code",
   "execution_count": 24,
   "metadata": {
    "collapsed": true,
    "pycharm": {
     "name": "#%%\n"
    }
   },
   "outputs": [
    {
     "name": "stdout",
     "output_type": "stream",
     "text": [
      "Requirement already satisfied: opencv-python in /Users/mac/opt/anaconda3/lib/python3.8/site-packages (4.5.5.62)\r\n",
      "Requirement already satisfied: numpy>=1.17.3 in /Users/mac/opt/anaconda3/lib/python3.8/site-packages (from opencv-python) (1.20.1)\r\n",
      "program starting...\n"
     ]
    }
   ],
   "source": [
    "import numpy as np\n",
    "import sys\n",
    "!{sys.executable} -m pip install opencv-python\n",
    "import cv2\n",
    "import csv\n",
    "file_path = 'resources/ms1.mzML'\n",
    "file_name = file_path.split('/')[1]\n",
    "img = cv2.imread(file_path.split('.')[0] + \"_labeled.jpg\")\n",
    "HEIGHT, WIDTH = img.shape[0], img.shape[1]\n",
    "h = 200\n",
    "w = 200\n",
    "print('program starting...')"
   ]
  },
  {
   "cell_type": "code",
   "execution_count": 25,
   "outputs": [
    {
     "name": "stdout",
     "output_type": "stream",
     "text": [
      "finished saving frames\n"
     ]
    }
   ],
   "source": [
    "i, j = 0, 0\n",
    "while i + w < WIDTH:\n",
    "    j = 0\n",
    "    while j + h < HEIGHT:\n",
    "        temp = img[j:j+h, i:i+w]\n",
    "        if not cv2.imwrite(f'windows/{file_name}_{int(i//w)}_{int(j//h)}.png', temp):\n",
    "            print(f'windows/{file_name}_{int(i//w)}_{int(j//h)}.png failed')\n",
    "        j += h//2\n",
    "    i += w//2\n",
    "print('finished saving frames')"
   ],
   "metadata": {
    "collapsed": false,
    "pycharm": {
     "name": "#%%\n"
    }
   }
  },
  {
   "cell_type": "code",
   "execution_count": 35,
   "outputs": [
    {
     "name": "stdout",
     "output_type": "stream",
     "text": [
      "finished wrting annotation file for ms1.mzML\n"
     ]
    }
   ],
   "source": [
    "feature_bbox = np.load(f'{file_path}_feature_bbox.npy')\n",
    "arr = []\n",
    "for box in feature_bbox:\n",
    "        left, top, right, bot = box[0], box[1], box[2], box[3]\n",
    "        if left//w == right//w and top//h == bot//h:\n",
    "            arr.append([f'windows/{file_name}_{int(left//w)}_{int(bot//h)}.png', int(left%w), int(bot%h), int(right%w), int(top%h), 'feature'])\n",
    "arr.sort(key=lambda x:x[0])\n",
    "with open(f'annotations/{file_name}_annotations.csv', mode='w') as file:\n",
    "    writer = csv.writer(file, delimiter=',', quotechar='\"', quoting=csv.QUOTE_MINIMAL)\n",
    "    writer.writerows(arr)\n",
    "print(f'finished wrting annotation file for {file_name}')"
   ],
   "metadata": {
    "collapsed": false,
    "pycharm": {
     "name": "#%%\n"
    }
   }
  },
  {
   "cell_type": "code",
   "execution_count": 36,
   "outputs": [],
   "source": [
    "import os\n",
    "import matplotlib.pyplot as plt\n",
    "for f in os.listdir('windows/')[:100]:\n",
    "    temp_file = 'windows/' + f\n",
    "    train_img = cv2.imread(temp_file)\n",
    "    bbox = [[e[1], e[2], e[3], e[4]] for e in arr if e[0] == temp_file]\n",
    "    for box in bbox:\n",
    "        train_img = cv2.rectangle(train_img, (box[0], box[1]), (box[2], box[3]), (255, 70, 70), 1)\n",
    "    plt.figure()\n",
    "    plt.imshow(train_img, cmap='gray')"
   ],
   "metadata": {
    "collapsed": false,
    "pycharm": {
     "name": "#%% visualize the features in images\n"
    }
   }
  },
  {
   "cell_type": "code",
   "execution_count": 20,
   "outputs": [
    {
     "data": {
      "text/plain": "<matplotlib.image.AxesImage at 0x7fad7a5a0700>"
     },
     "execution_count": 20,
     "metadata": {},
     "output_type": "execute_result"
    },
    {
     "data": {
      "text/plain": "<Figure size 432x288 with 1 Axes>",
      "image/png": "[encoded data removed]"
     },
     "metadata": {
      "needs_background": "light"
     },
     "output_type": "display_data"
    }
   ],
   "source": [
    "f = f'windows/{file_name}_0_0.png'\n",
    "img = cv2.imread(f)\n",
    "img = cv2.rectangle(img, (4462%200, 6767%200), (4478%200, 6693%200), (255, 70, 70), 1)\n",
    "plt.figure()\n",
    "plt.imshow(img)"
   ],
   "metadata": {
    "collapsed": false,
    "pycharm": {
     "name": "#%%\n"
    }
   }
  }
 ],
 "metadata": {
  "kernelspec": {
   "display_name": "Python 3",
   "language": "python",
   "name": "python3"
  },
  "language_info": {
   "codemirror_mode": {
    "name": "ipython",
    "version": 2
   },
   "file_extension": ".py",
   "mimetype": "text/x-python",
   "name": "python",
   "nbconvert_exporter": "python",
   "pygments_lexer": "ipython2",
   "version": "2.7.6"
  }
 },
 "nbformat": 4,
 "nbformat_minor": 0
}